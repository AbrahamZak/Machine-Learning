{
 "cells": [
  {
   "cell_type": "markdown",
   "metadata": {},
   "source": [
    "# Linear Discriminant Analysis"
   ]
  },
  {
   "cell_type": "markdown",
   "metadata": {},
   "source": [
    "Import neccessary libraries and create the dataset"
   ]
  },
  {
   "cell_type": "code",
   "execution_count": 3,
   "metadata": {},
   "outputs": [
    {
     "name": "stdout",
     "output_type": "stream",
     "text": [
      "[[ 4  1  0]\n",
      " [ 2  4  1]\n",
      " [ 2  3  1]\n",
      " [ 3  6  0]\n",
      " [ 4  4 -1]\n",
      " [ 6  2  0]\n",
      " [ 3  2  1]\n",
      " [ 8  3  0]]\n",
      "[[ 9 10  1]\n",
      " [ 6  8  0]\n",
      " [ 9  5  0]\n",
      " [ 8  7  1]\n",
      " [10  8 -1]]\n"
     ]
    }
   ],
   "source": [
    "import numpy as np\n",
    "xp = np.array([[4,2,2,3,4,6,3,8], [1,4,3,6,4,2,2,3], [0,1,1,0,-1,0,1,0]])\n",
    "xn = np.array([[9,6,9,8,10], [10,8,5,7,8], [1,0,0,1,-1]])\n",
    "print(xp.T)\n",
    "print(xn.T)"
   ]
  },
  {
   "cell_type": "markdown",
   "metadata": {},
   "source": [
    "1. Function to compute the mean"
   ]
  },
  {
   "cell_type": "code",
   "execution_count": 4,
   "metadata": {},
   "outputs": [],
   "source": [
    "def computeMean(x):\n",
    "    return x.mean(0)"
   ]
  },
  {
   "cell_type": "markdown",
   "metadata": {},
   "source": [
    "2. Use function to compute the mean of our dataset"
   ]
  },
  {
   "cell_type": "code",
   "execution_count": 5,
   "metadata": {},
   "outputs": [
    {
     "name": "stdout",
     "output_type": "stream",
     "text": [
      "[4.    3.125 0.25 ]\n",
      "[8.4 7.6 0.2]\n"
     ]
    }
   ],
   "source": [
    "meanXp = computeMean(xp.T)\n",
    "meanXn = computeMean(xn.T)\n",
    "print(meanXp)\n",
    "print(meanXn)"
   ]
  },
  {
   "cell_type": "markdown",
   "metadata": {},
   "source": [
    "3. Function to compute the covariance matrix of our dataset"
   ]
  },
  {
   "cell_type": "code",
   "execution_count": 6,
   "metadata": {},
   "outputs": [],
   "source": [
    "def covar(x, mean):\n",
    "    data = x.T-mean\n",
    "    dataTransposed = data.T\n",
    "    dataTransposedTwo = dataTransposed\n",
    "    covar = np.zeros((np.size(data,1), np.size(data,1)))\n",
    "    for i, r in enumerate(dataTransposed):\n",
    "        for j, c in enumerate(dataTransposedTwo):\n",
    "            covar[i][j] = ((np.dot(c,r)) / (r.size-1))\n",
    "    return covar"
   ]
  },
  {
   "cell_type": "markdown",
   "metadata": {},
   "source": [
    "4. Compute the covariance matrix of our dataset"
   ]
  },
  {
   "cell_type": "code",
   "execution_count": 7,
   "metadata": {},
   "outputs": [
    {
     "name": "stdout",
     "output_type": "stream",
     "text": [
      "[[ 4.28571429 -0.85714286 -0.71428571]\n",
      " [-0.85714286  2.41071429 -0.17857143]\n",
      " [-0.71428571 -0.17857143  0.5       ]]\n",
      "[[ 2.3  -0.05 -0.35]\n",
      " [-0.05  3.3   0.35]\n",
      " [-0.35  0.35  0.7 ]]\n"
     ]
    }
   ],
   "source": [
    "covarXp = covar(xp, meanXp)\n",
    "covarXn = covar(xn, meanXn)\n",
    "print(covarXp)\n",
    "print(covarXn)"
   ]
  },
  {
   "cell_type": "markdown",
   "metadata": {},
   "source": [
    "5. Function to compute between class scattering matrix Sb"
   ]
  },
  {
   "cell_type": "code",
   "execution_count": 8,
   "metadata": {},
   "outputs": [],
   "source": [
    "def betweenScatter (xp, xn, meanXp, meanXn):\n",
    "    SizeMult = xp.shape[1]*xn.shape[1]\n",
    "    SumSizeSquared = (xp.shape[1]+xn.shape[1])**2\n",
    "    meansDifference = ((meanXp - meanXn))\n",
    "    return (SizeMult/SumSizeSquared) * np.outer(meansDifference, meansDifference)"
   ]
  },
  {
   "cell_type": "markdown",
   "metadata": {},
   "source": [
    "6. Compute between class scattering matrix Sb"
   ]
  },
  {
   "cell_type": "code",
   "execution_count": 9,
   "metadata": {},
   "outputs": [
    {
     "name": "stdout",
     "output_type": "stream",
     "text": [
      "[[ 4.58224852e+00  4.66035503e+00 -5.20710059e-02]\n",
      " [ 4.66035503e+00  4.73979290e+00 -5.29585799e-02]\n",
      " [-5.20710059e-02 -5.29585799e-02  5.91715976e-04]]\n"
     ]
    }
   ],
   "source": [
    "Sb = betweenScatter(xp, xn, meanXp, meanXn)\n",
    "print (Sb)"
   ]
  },
  {
   "cell_type": "markdown",
   "metadata": {},
   "source": [
    "7. Function to compute within class scattering matrix Sw"
   ]
  },
  {
   "cell_type": "code",
   "execution_count": 10,
   "metadata": {},
   "outputs": [],
   "source": [
    "def withinScatter(xp, xn, covarXp, covarXn):\n",
    "    xpLen = xp.shape[1]\n",
    "    xnLen = xn.shape[1]\n",
    "    totalLen = xpLen + xnLen\n",
    "    return ((xpLen/totalLen) * covarXp) + ((xnLen/totalLen) * covarXn)"
   ]
  },
  {
   "cell_type": "markdown",
   "metadata": {},
   "source": [
    "8. Compute within class scattering matrix Sw"
   ]
  },
  {
   "cell_type": "code",
   "execution_count": 11,
   "metadata": {},
   "outputs": [
    {
     "name": "stdout",
     "output_type": "stream",
     "text": [
      "[[ 3.52197802 -0.5467033  -0.57417582]\n",
      " [-0.5467033   2.75274725  0.02472527]\n",
      " [-0.57417582  0.02472527  0.57692308]]\n"
     ]
    }
   ],
   "source": [
    "Sw = withinScatter(xp, xn, covarXp, covarXn)\n",
    "print (Sw)"
   ]
  },
  {
   "cell_type": "markdown",
   "metadata": {},
   "source": [
    "9. Function to compute the LDA projection by solving the generalized eigenvalue decomposition problem"
   ]
  },
  {
   "cell_type": "code",
   "execution_count": 28,
   "metadata": {},
   "outputs": [],
   "source": [
    "def LDAproject(Sw, Sb):\n",
    "    eigenvalues, eigenvectors = np.linalg.eig(np.linalg.inv(Sw).dot(Sb))\n",
    "    idx = np.argsort(eigenvalues)[::-1]\n",
    "    eigenvectors = eigenvectors[idx]\n",
    "    eigenvalues = eigenvalues[idx]\n",
    "    highestEigenvector = eigenvectors[0]\n",
    "    return highestEigenvector"
   ]
  },
  {
   "cell_type": "markdown",
   "metadata": {},
   "source": [
    "10. Compute the LDA projection by solving the generalized eigenvalue decomposition problem"
   ]
  },
  {
   "cell_type": "code",
   "execution_count": 29,
   "metadata": {
    "scrolled": true
   },
   "outputs": [
    {
     "name": "stdout",
     "output_type": "stream",
     "text": [
      "[ 0.5789803  -0.68042478  0.01563448]\n"
     ]
    }
   ],
   "source": [
    "proj = LDAproject(Sw, Sb)\n",
    "print(proj) "
   ]
  },
  {
   "cell_type": "markdown",
   "metadata": {},
   "source": [
    "11. Function to perform binary LDA"
   ]
  },
  {
   "cell_type": "code",
   "execution_count": 30,
   "metadata": {},
   "outputs": [],
   "source": [
    "def mybLDA_train(xp, xn):\n",
    "    meanXp = computeMean(xp.T)\n",
    "    meanXn = computeMean(xn.T)\n",
    "    covarXp = covar(xp, meanXp)\n",
    "    covarXn = covar(xn, meanXn)\n",
    "    Sb = betweenScatter(xp, xn, meanXp, meanXn)\n",
    "    Sw = withinScatter(xp, xn, covarXp, covarXn)\n",
    "    proj = LDAproject(Sw, Sb)\n",
    "    return proj"
   ]
  },
  {
   "cell_type": "markdown",
   "metadata": {},
   "source": [
    "12. Function which takes a data matrix X and a projection direction v, returns a row vector r that has size as the number of rows in X, and r_i =+1 if the ith column of X is from the class as in Xp, and r_i =-1 if the ith column in X is from the class as in Xn"
   ]
  },
  {
   "cell_type": "code",
   "execution_count": 46,
   "metadata": {},
   "outputs": [],
   "source": [
    "def mybLDA_classify(x,v):\n",
    "    result = []\n",
    "    for row in x.T:\n",
    "        res = np.dot(row,v)\n",
    "        if (res>0):\n",
    "            result.append(1)\n",
    "        else:\n",
    "            result.append(-1)\n",
    "    return np.array(result)"
   ]
  },
  {
   "cell_type": "markdown",
   "metadata": {},
   "source": [
    "13. Run your function, mybLDA_train, on the data given in the problem setting, and then use the obtained projection direction and your function mybLDA_classify to classify the following data set"
   ]
  },
  {
   "cell_type": "code",
   "execution_count": 47,
   "metadata": {},
   "outputs": [
    {
     "name": "stdout",
     "output_type": "stream",
     "text": [
      "[-1 -1  1  1  1 -1]\n"
     ]
    }
   ],
   "source": [
    "train = mybLDA_train(xp,xn)\n",
    "x = np.array([[1.3,2.4,6.7,2.2,3.4,3.2], [8.1,7.6,2.1,1.1,0.5,7.4], [-1,2,3,-2,0,2]])\n",
    "classify = mybLDA_classify(x,train)\n",
    "print(classify)"
   ]
  }
 ],
 "metadata": {
  "kernelspec": {
   "display_name": "Python 3",
   "language": "python",
   "name": "python3"
  },
  "language_info": {
   "codemirror_mode": {
    "name": "ipython",
    "version": 3
   },
   "file_extension": ".py",
   "mimetype": "text/x-python",
   "name": "python",
   "nbconvert_exporter": "python",
   "pygments_lexer": "ipython3",
   "version": "3.7.3"
  }
 },
 "nbformat": 4,
 "nbformat_minor": 4
}
