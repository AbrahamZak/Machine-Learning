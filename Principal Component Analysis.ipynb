{
 "cells": [
  {
   "cell_type": "markdown",
   "metadata": {},
   "source": [
    "# Principal Component Analysis"
   ]
  },
  {
   "cell_type": "markdown",
   "metadata": {},
   "source": [
    "Import neccessary libraries and create the dataset"
   ]
  },
  {
   "cell_type": "code",
   "execution_count": 1,
   "metadata": {},
   "outputs": [
    {
     "name": "stdout",
     "output_type": "stream",
     "text": [
      "[[-2  1  4  6  5  3  6  2]\n",
      " [ 9  3  2 -1 -4 -2 -4  5]\n",
      " [ 0  7 -5  3  2 -3  4  6]]\n"
     ]
    }
   ],
   "source": [
    "import numpy as np\n",
    "x = np.array([[-2,1,4,6,5,3,6,2], [9,3,2,-1,-4,-2,-4,5], [0,7,-5,3,2,-3,4,6]])\n",
    "print(x)"
   ]
  },
  {
   "cell_type": "markdown",
   "metadata": {},
   "source": [
    "1. Function to compute the mean"
   ]
  },
  {
   "cell_type": "code",
   "execution_count": 2,
   "metadata": {},
   "outputs": [],
   "source": [
    "def computeMean(x):\n",
    "    return x.mean(0)"
   ]
  },
  {
   "cell_type": "markdown",
   "metadata": {},
   "source": [
    "2. Use function to compute the mean of our dataset"
   ]
  },
  {
   "cell_type": "code",
   "execution_count": 3,
   "metadata": {},
   "outputs": [
    {
     "name": "stdout",
     "output_type": "stream",
     "text": [
      "[ 2.33333333  3.66666667  0.33333333  2.66666667  1.         -0.66666667\n",
      "  2.          4.33333333]\n"
     ]
    }
   ],
   "source": [
    "meanX = computeMean(x)\n",
    "print(meanX)"
   ]
  },
  {
   "cell_type": "markdown",
   "metadata": {},
   "source": [
    "3. Function to compute a centered data matrix"
   ]
  },
  {
   "cell_type": "code",
   "execution_count": 4,
   "metadata": {},
   "outputs": [],
   "source": [
    "def center(x, mean):\n",
    "    return x-mean"
   ]
  },
  {
   "cell_type": "markdown",
   "metadata": {},
   "source": [
    "4. Use function to compute centered data matrix of our dataset"
   ]
  },
  {
   "cell_type": "code",
   "execution_count": 5,
   "metadata": {},
   "outputs": [
    {
     "name": "stdout",
     "output_type": "stream",
     "text": [
      "[[-4.33333333 -2.66666667  3.66666667  3.33333333  4.          3.66666667\n",
      "   4.         -2.33333333]\n",
      " [ 6.66666667 -0.66666667  1.66666667 -3.66666667 -5.         -1.33333333\n",
      "  -6.          0.66666667]\n",
      " [-2.33333333  3.33333333 -5.33333333  0.33333333  1.         -2.33333333\n",
      "   2.          1.66666667]]\n"
     ]
    }
   ],
   "source": [
    "centerX = center(x, meanX)\n",
    "print(centerX)"
   ]
  },
  {
   "cell_type": "markdown",
   "metadata": {},
   "source": [
    "5. Function to compute unnormalized covariance matrix of the centered data"
   ]
  },
  {
   "cell_type": "code",
   "execution_count": 33,
   "metadata": {},
   "outputs": [],
   "source": [
    "def covar(data):\n",
    "    dataTransposed = data.T\n",
    "    dataTransposedTwo = dataTransposed\n",
    "    covar = np.zeros((np.size(data,1), np.size(data,1)))\n",
    "    for i, r in enumerate(dataTransposed):\n",
    "        for j, c in enumerate(dataTransposedTwo):\n",
    "            covar[i][j] = ((np.dot(c,r)) / (r.size-1))\n",
    "    return covar"
   ]
  },
  {
   "cell_type": "markdown",
   "metadata": {},
   "source": [
    "6. Compute the covariance matrix of our centered dataset"
   ]
  },
  {
   "cell_type": "code",
   "execution_count": 7,
   "metadata": {},
   "outputs": [
    {
     "name": "stdout",
     "output_type": "stream",
     "text": [
      "[[ 34.33333333  -0.33333333   3.83333333 -19.83333333 -26.5\n",
      "   -9.66666667 -31.           5.33333333]\n",
      " [ -0.33333333   9.33333333 -14.33333333  -2.66666667  -2.\n",
      "   -8.33333333   0.           5.66666667]\n",
      " [  3.83333333 -14.33333333  22.33333333   2.16666667   0.5\n",
      "   11.83333333  -3.          -8.16666667]\n",
      " [-19.83333333  -2.66666667   2.16666667  12.33333333  16.\n",
      "    8.16666667  18.          -4.83333333]\n",
      " [-26.5         -2.           0.5         16.          21.\n",
      "    9.5         24.          -5.5       ]\n",
      " [ -9.66666667  -8.33333333  11.83333333   8.16666667   9.5\n",
      "   10.33333333   9.          -6.66666667]\n",
      " [-31.           0.          -3.          18.          24.\n",
      "    9.          28.          -5.        ]\n",
      " [  5.33333333   5.66666667  -8.16666667  -4.83333333  -5.5\n",
      "   -6.66666667  -5.           4.33333333]]\n"
     ]
    }
   ],
   "source": [
    "covarX = covar(centerX)\n",
    "print (covarX)\n"
   ]
  },
  {
   "cell_type": "markdown",
   "metadata": {},
   "source": [
    "7. Function to compute the first K highest principal components"
   ]
  },
  {
   "cell_type": "code",
   "execution_count": 40,
   "metadata": {},
   "outputs": [],
   "source": [
    "def components(covar, dimension):\n",
    "    #Get the eigenvalues/vectors\n",
    "    eigenvalues, eigenvectors = np.linalg.eig(covar)\n",
    "    idx = np.argsort(eigenvalues)[::-1]\n",
    "    eigenvectors = eigenvectors[:,idx]    \n",
    "    eigenvalues = eigenvalues[idx]\n",
    "    #Get k eigenvectors corresponding to dimension k largest eigenvalues\n",
    "    eigenvectors = eigenvectors[:dimension, :]\n",
    "    return(eigenvectors)"
   ]
  },
  {
   "cell_type": "markdown",
   "metadata": {},
   "source": [
    "8. Compute the first principal component"
   ]
  },
  {
   "cell_type": "code",
   "execution_count": 41,
   "metadata": {},
   "outputs": [
    {
     "name": "stdout",
     "output_type": "stream",
     "text": [
      "[[ 0.57676528+0.j          0.15913013+0.j         -0.02114331+0.j\n",
      "   0.0208365 +0.j         -0.03680804+0.j         -0.01213636+0.01676183j\n",
      "  -0.01213636-0.01676183j -0.80126114+0.j        ]]\n"
     ]
    }
   ],
   "source": [
    "print(components(covarX, 1))"
   ]
  },
  {
   "cell_type": "markdown",
   "metadata": {},
   "source": [
    "9. Function to compute the best K-Dimension representation of data matrix"
   ]
  },
  {
   "cell_type": "code",
   "execution_count": 66,
   "metadata": {},
   "outputs": [],
   "source": [
    "def Representation(covarX, centerX, dimension):\n",
    "    eigenvalues, eigenvectors = np.linalg.eig(covarX)\n",
    "    idx = np.argsort(eigenvalues)[::-1]\n",
    "    eigenvectors = eigenvectors[:,idx]\n",
    "    eigenvalues = eigenvalues[idx]\n",
    "    eigenvectors = eigenvectors[:dimension, :]\n",
    "    return np.dot(centerX, eigenvectors.T)"
   ]
  },
  {
   "cell_type": "markdown",
   "metadata": {},
   "source": [
    "10. Compute the best 1D representation of data matrix"
   ]
  },
  {
   "cell_type": "code",
   "execution_count": 67,
   "metadata": {},
   "outputs": [
    {
     "name": "stdout",
     "output_type": "stream",
     "text": [
      "[[ 0.57676528+0.j          0.15913013+0.j         -0.02114331+0.j\n",
      "   0.0208365 +0.j         -0.03680804+0.j         -0.01213636+0.01676183j\n",
      "  -0.01213636-0.01676183j -0.80126114+0.j        ]]\n",
      "[[-1.30240199-0.00558728j]\n",
      " [ 3.36624186+0.07822189j]\n",
      " [-2.06383987-0.07263461j]]\n"
     ]
    }
   ],
   "source": [
    "print (Representation(covarX, centerX, 1))"
   ]
  },
  {
   "cell_type": "markdown",
   "metadata": {},
   "source": [
    "11. Create a function mypca which take inputs of a data matrix assuming column data, and return the best k-dimensional representation"
   ]
  },
  {
   "cell_type": "code",
   "execution_count": 29,
   "metadata": {},
   "outputs": [],
   "source": [
    "def mypca(X, k):\n",
    "    meanX = computeMean(X)\n",
    "    centerX = center(X, meanX)\n",
    "    covarX = covar(centerX)\n",
    "    eigenvalues, eigenvectors = np.linalg.eig(covarX)\n",
    "    #principal values are the k highest eigenvalues\n",
    "    pv = eigenvalues[np.argsort(eigenvalues)[-k:]]\n",
    "    #principal components are the k sets of eigenvectors corresponding to the k highest eigenvalues\n",
    "    pc = components(covarX, k)\n",
    "    #computing the k-dimension representation using our pc and pv\n",
    "    rep = Representation(covarX, centerX, k)\n",
    "    return pv, pc, rep\n",
    "    "
   ]
  },
  {
   "cell_type": "markdown",
   "metadata": {},
   "source": [
    "Testing our function with our original data set"
   ]
  },
  {
   "cell_type": "code",
   "execution_count": 32,
   "metadata": {},
   "outputs": [
    {
     "name": "stdout",
     "output_type": "stream",
     "text": [
      "(array([100.01292815+0.j]), array([[ 0.57676528+0.j],\n",
      "       [ 0.04814895+0.j],\n",
      "       [-0.01796062+0.j],\n",
      "       [-0.34965129+0.j],\n",
      "       [-0.4581769 +0.j],\n",
      "       [-0.21093736+0.j],\n",
      "       [-0.52250248+0.j],\n",
      "       [ 0.1225373 +0.j]]), array([[-8.84114822+0.j],\n",
      "       [10.85396371+0.j],\n",
      "       [-2.0128155 +0.j]]))\n"
     ]
    }
   ],
   "source": [
    "print(mypca(x,1))"
   ]
  }
 ],
 "metadata": {
  "kernelspec": {
   "display_name": "Python 3",
   "language": "python",
   "name": "python3"
  },
  "language_info": {
   "codemirror_mode": {
    "name": "ipython",
    "version": 3
   },
   "file_extension": ".py",
   "mimetype": "text/x-python",
   "name": "python",
   "nbconvert_exporter": "python",
   "pygments_lexer": "ipython3",
   "version": "3.7.3"
  }
 },
 "nbformat": 4,
 "nbformat_minor": 4
}
